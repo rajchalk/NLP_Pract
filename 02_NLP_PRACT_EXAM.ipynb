{
  "nbformat": 4,
  "nbformat_minor": 0,
  "metadata": {
    "colab": {
      "name": "02_NLP_PRACT_EXAM.ipynb",
      "provenance": [],
      "collapsed_sections": []
    },
    "kernelspec": {
      "name": "python3",
      "display_name": "Python 3"
    },
    "language_info": {
      "name": "python"
    }
  },
  "cells": [
    {
      "cell_type": "code",
      "metadata": {
        "colab": {
          "base_uri": "https://localhost:8080/"
        },
        "id": "gM_IZ-hEAGc0",
        "outputId": "daef8172-f3b3-470a-e99d-c947415dfa79"
      },
      "source": [
        "import nltk\n",
        "from nltk.tokenize import sent_tokenize, word_tokenize\n",
        "from urllib import request\n",
        "from __future__ import division\n",
        "import nltk, re, pprint\n",
        "from nltk import word_tokenize\n",
        "nltk.download('punkt')"
      ],
      "execution_count": 2,
      "outputs": [
        {
          "output_type": "stream",
          "text": [
            "[nltk_data] Downloading package punkt to /root/nltk_data...\n",
            "[nltk_data]   Package punkt is already up-to-date!\n"
          ],
          "name": "stdout"
        },
        {
          "output_type": "execute_result",
          "data": {
            "text/plain": [
              "True"
            ]
          },
          "metadata": {
            "tags": []
          },
          "execution_count": 2
        }
      ]
    },
    {
      "cell_type": "code",
      "metadata": {
        "id": "nU-bZjwfBQkn"
      },
      "source": [
        "text = \"The Department of Information Technology at Ramniranjan Jhunjhunwala College, Ghatkopar, Mumbai was established in 2007. The Department offers both undergraduate (B.Sc. IT) and postgraduate (M.Sc. IT) programmes. The M.Sc IT programme was introduced in the year 2016.\""
      ],
      "execution_count": 3,
      "outputs": []
    },
    {
      "cell_type": "code",
      "metadata": {
        "colab": {
          "base_uri": "https://localhost:8080/"
        },
        "id": "CWPaBkkpCGdJ",
        "outputId": "cdc34062-4867-42b2-d650-b681d839b091"
      },
      "source": [
        "print(sent_tokenize(text))"
      ],
      "execution_count": 4,
      "outputs": [
        {
          "output_type": "stream",
          "text": [
            "['The Department of Information Technology at Ramniranjan Jhunjhunwala College, Ghatkopar, Mumbai was established in 2007.', 'The Department offers both undergraduate (B.Sc.', 'IT) and postgraduate (M.Sc.', 'IT) programmes.', 'The M.Sc IT programme was introduced in the year 2016.']\n"
          ],
          "name": "stdout"
        }
      ]
    },
    {
      "cell_type": "code",
      "metadata": {
        "colab": {
          "base_uri": "https://localhost:8080/"
        },
        "id": "JeEn9BiJCOsK",
        "outputId": "e140c18c-2c56-4f36-c913-d0212ba222d8"
      },
      "source": [
        "print(word_tokenize(text))"
      ],
      "execution_count": 5,
      "outputs": [
        {
          "output_type": "stream",
          "text": [
            "['The', 'Department', 'of', 'Information', 'Technology', 'at', 'Ramniranjan', 'Jhunjhunwala', 'College', ',', 'Ghatkopar', ',', 'Mumbai', 'was', 'established', 'in', '2007', '.', 'The', 'Department', 'offers', 'both', 'undergraduate', '(', 'B.Sc', '.', 'IT', ')', 'and', 'postgraduate', '(', 'M.Sc', '.', 'IT', ')', 'programmes', '.', 'The', 'M.Sc', 'IT', 'programme', 'was', 'introduced', 'in', 'the', 'year', '2016', '.']\n"
          ],
          "name": "stdout"
        }
      ]
    },
    {
      "cell_type": "code",
      "metadata": {
        "colab": {
          "base_uri": "https://localhost:8080/"
        },
        "id": "WiNUHfzgCk0W",
        "outputId": "a685d182-9842-47cf-c745-5f660e4eaf1d"
      },
      "source": [
        "from nltk.tokenize import sent_tokenize\n",
        "  \n",
        "text = \"The Department of Information Technology at Ramniranjan Jhunjhunwala College, Ghatkopar, Mumbai was established in 2007. The Department offers both undergraduate (B.Sc. IT) and postgraduate (M.Sc. IT) programmes. The M.Sc IT programme was introduced in the year 2016.\"\n",
        "sent_tokenize(text)"
      ],
      "execution_count": 6,
      "outputs": [
        {
          "output_type": "execute_result",
          "data": {
            "text/plain": [
              "['The Department of Information Technology at Ramniranjan Jhunjhunwala College, Ghatkopar, Mumbai was established in 2007.',\n",
              " 'The Department offers both undergraduate (B.Sc.',\n",
              " 'IT) and postgraduate (M.Sc.',\n",
              " 'IT) programmes.',\n",
              " 'The M.Sc IT programme was introduced in the year 2016.']"
            ]
          },
          "metadata": {
            "tags": []
          },
          "execution_count": 6
        }
      ]
    },
    {
      "cell_type": "code",
      "metadata": {
        "colab": {
          "base_uri": "https://localhost:8080/"
        },
        "id": "8BGyE-5fEEqd",
        "outputId": "1ea8cce0-3144-4486-ceca-d5a4534cff4a"
      },
      "source": [
        "import nltk\n",
        "nltk.download('averaged_perceptron_tagger')\n",
        "from nltk import pos_tag\n",
        "from nltk import RegexpParser\n",
        "text =\"The Department of Information Technology at Ramniranjan Jhunjhunwala College, Ghatkopar, Mumbai was established in 2007. The Department offers both undergraduate (B.Sc. IT) and postgraduate (M.Sc. IT) programmes. The M.Sc IT programme was introduced in the year 2016.\".split()\n",
        "print(\"After Split:\",text)\n",
        "tokens_tag = pos_tag(text)\n",
        "print(\"After Token:\",tokens_tag)\n",
        "patterns= \"\"\"mychunk:{<NN.?>*<VBD.?>*<JJ.?>*<CC>?}\"\"\"\n",
        "chunker = RegexpParser(patterns)\n",
        "print(\"After Regex:\",chunker)\n",
        "output = chunker.parse(tokens_tag)\n",
        "print(\"After Chunking\",output)"
      ],
      "execution_count": 7,
      "outputs": [
        {
          "output_type": "stream",
          "text": [
            "[nltk_data] Downloading package averaged_perceptron_tagger to\n",
            "[nltk_data]     /root/nltk_data...\n",
            "[nltk_data]   Unzipping taggers/averaged_perceptron_tagger.zip.\n",
            "After Split: ['The', 'Department', 'of', 'Information', 'Technology', 'at', 'Ramniranjan', 'Jhunjhunwala', 'College,', 'Ghatkopar,', 'Mumbai', 'was', 'established', 'in', '2007.', 'The', 'Department', 'offers', 'both', 'undergraduate', '(B.Sc.', 'IT)', 'and', 'postgraduate', '(M.Sc.', 'IT)', 'programmes.', 'The', 'M.Sc', 'IT', 'programme', 'was', 'introduced', 'in', 'the', 'year', '2016.']\n",
            "After Token: [('The', 'DT'), ('Department', 'NNP'), ('of', 'IN'), ('Information', 'NNP'), ('Technology', 'NNP'), ('at', 'IN'), ('Ramniranjan', 'NNP'), ('Jhunjhunwala', 'NNP'), ('College,', 'NNP'), ('Ghatkopar,', 'NNP'), ('Mumbai', 'NNP'), ('was', 'VBD'), ('established', 'VBN'), ('in', 'IN'), ('2007.', 'CD'), ('The', 'DT'), ('Department', 'NNP'), ('offers', 'VBZ'), ('both', 'DT'), ('undergraduate', 'JJ'), ('(B.Sc.', 'NN'), ('IT)', 'NNP'), ('and', 'CC'), ('postgraduate', 'VB'), ('(M.Sc.', 'NNP'), ('IT)', 'NNP'), ('programmes.', 'VBD'), ('The', 'DT'), ('M.Sc', 'NNP'), ('IT', 'NNP'), ('programme', 'NN'), ('was', 'VBD'), ('introduced', 'VBN'), ('in', 'IN'), ('the', 'DT'), ('year', 'NN'), ('2016.', 'CD')]\n",
            "After Regex: chunk.RegexpParser with 1 stages:\n",
            "RegexpChunkParser with 1 rules:\n",
            "       <ChunkRule: '<NN.?>*<VBD.?>*<JJ.?>*<CC>?'>\n",
            "After Chunking (S\n",
            "  The/DT\n",
            "  (mychunk Department/NNP)\n",
            "  of/IN\n",
            "  (mychunk Information/NNP Technology/NNP)\n",
            "  at/IN\n",
            "  (mychunk\n",
            "    Ramniranjan/NNP\n",
            "    Jhunjhunwala/NNP\n",
            "    College,/NNP\n",
            "    Ghatkopar,/NNP\n",
            "    Mumbai/NNP\n",
            "    was/VBD)\n",
            "  established/VBN\n",
            "  in/IN\n",
            "  2007./CD\n",
            "  The/DT\n",
            "  (mychunk Department/NNP)\n",
            "  offers/VBZ\n",
            "  both/DT\n",
            "  (mychunk undergraduate/JJ)\n",
            "  (mychunk (B.Sc./NN IT)/NNP and/CC)\n",
            "  postgraduate/VB\n",
            "  (mychunk (M.Sc./NNP IT)/NNP programmes./VBD)\n",
            "  The/DT\n",
            "  (mychunk M.Sc/NNP IT/NNP programme/NN was/VBD)\n",
            "  introduced/VBN\n",
            "  in/IN\n",
            "  the/DT\n",
            "  (mychunk year/NN)\n",
            "  2016./CD)\n"
          ],
          "name": "stdout"
        }
      ]
    },
    {
      "cell_type": "code",
      "metadata": {
        "colab": {
          "base_uri": "https://localhost:8080/"
        },
        "id": "RCpNnOp-E88Y",
        "outputId": "aa950797-29f4-419b-c3c5-1b04cb221c6d"
      },
      "source": [
        "import nltk\n",
        "from nltk.corpus import stopwords\n",
        "from nltk.tokenize import word_tokenize, sent_tokenize\n",
        "nltk.download('stopwords')\n",
        "stop_words = set(stopwords.words('english'))\n",
        "nltk.download('averaged_perceptron_tagger')\n",
        "text = \"The Department of Information Technology at Ramniranjan Jhunjhunwala College, Ghatkopar, Mumbai was established in 2007. The Department offers both undergraduate (B.Sc. IT) and postgraduate (M.Sc. IT) programmes. The M.Sc IT programme was introduced in the year 2016.\"\n",
        "tokenized = sent_tokenize(text)\n",
        "for i in tokenized:\n",
        " wordsList = nltk.word_tokenize(i)\n",
        " wordsList = [w for w in wordsList if not w in stop_words] \n",
        " tagged = nltk.pos_tag(wordsList) \n",
        "print(tagged)"
      ],
      "execution_count": 8,
      "outputs": [
        {
          "output_type": "stream",
          "text": [
            "[nltk_data] Downloading package stopwords to /root/nltk_data...\n",
            "[nltk_data]   Unzipping corpora/stopwords.zip.\n",
            "[nltk_data] Downloading package averaged_perceptron_tagger to\n",
            "[nltk_data]     /root/nltk_data...\n",
            "[nltk_data]   Package averaged_perceptron_tagger is already up-to-\n",
            "[nltk_data]       date!\n",
            "[('The', 'DT'), ('M.Sc', 'NNP'), ('IT', 'NNP'), ('programme', 'NN'), ('introduced', 'VBD'), ('year', 'NN'), ('2016', 'CD'), ('.', '.')]\n"
          ],
          "name": "stdout"
        }
      ]
    },
    {
      "cell_type": "code",
      "metadata": {
        "colab": {
          "base_uri": "https://localhost:8080/"
        },
        "id": "1lzw8ElhKd4e",
        "outputId": "9a4367e3-df64-4d1a-98b1-b401ea980e33"
      },
      "source": [
        "documents = [\"The Department of Information Technology at Ramniranjan Jhunjhunwala College, Ghatkopar, Mumbai was established in 2007. The Department offers both undergraduate (B.Sc. IT) and postgraduate (M.Sc. IT) programmes. The M.Sc IT programme was introduced in the year 2016.\"]\n",
        "\n",
        "lower_case_documents = []\n",
        "for i in documents:\n",
        "    lower_case_documents.append(i.lower())\n",
        "print(lower_case_documents)"
      ],
      "execution_count": 9,
      "outputs": [
        {
          "output_type": "stream",
          "text": [
            "['the department of information technology at ramniranjan jhunjhunwala college, ghatkopar, mumbai was established in 2007. the department offers both undergraduate (b.sc. it) and postgraduate (m.sc. it) programmes. the m.sc it programme was introduced in the year 2016.']\n"
          ],
          "name": "stdout"
        }
      ]
    },
    {
      "cell_type": "code",
      "metadata": {
        "colab": {
          "base_uri": "https://localhost:8080/"
        },
        "id": "YykzTCXxMopQ",
        "outputId": "10c9daa6-93a7-4a34-e1d7-d55f5e4e5f5f"
      },
      "source": [
        "sans_punctuation_documents = []\n",
        "import string\n",
        "\n",
        "for i in lower_case_documents:\n",
        "    sans_punctuation_documents.append(''.join(c for c in i if c not in string.punctuation))\n",
        "    \n",
        "print(sans_punctuation_documents)"
      ],
      "execution_count": 10,
      "outputs": [
        {
          "output_type": "stream",
          "text": [
            "['the department of information technology at ramniranjan jhunjhunwala college ghatkopar mumbai was established in 2007 the department offers both undergraduate bsc it and postgraduate msc it programmes the msc it programme was introduced in the year 2016']\n"
          ],
          "name": "stdout"
        }
      ]
    },
    {
      "cell_type": "code",
      "metadata": {
        "colab": {
          "base_uri": "https://localhost:8080/"
        },
        "id": "mH-m1Wj_MraD",
        "outputId": "bb5013ed-e6ea-486a-cbef-b98c2d8ff52c"
      },
      "source": [
        "preprocessed_documents = []\n",
        "for i in sans_punctuation_documents:\n",
        "    preprocessed_documents.append(i.split(' '))\n",
        "print(preprocessed_documents)"
      ],
      "execution_count": 11,
      "outputs": [
        {
          "output_type": "stream",
          "text": [
            "[['the', 'department', 'of', 'information', 'technology', 'at', 'ramniranjan', 'jhunjhunwala', 'college', 'ghatkopar', 'mumbai', 'was', 'established', 'in', '2007', 'the', 'department', 'offers', 'both', 'undergraduate', 'bsc', 'it', 'and', 'postgraduate', 'msc', 'it', 'programmes', 'the', 'msc', 'it', 'programme', 'was', 'introduced', 'in', 'the', 'year', '2016']]\n"
          ],
          "name": "stdout"
        }
      ]
    },
    {
      "cell_type": "code",
      "metadata": {
        "colab": {
          "base_uri": "https://localhost:8080/"
        },
        "id": "fgjjMDvbMuw6",
        "outputId": "5a0c49e7-c238-4cc4-a405-b1d6f932cfcd"
      },
      "source": [
        "frequency_list = []\n",
        "import pprint\n",
        "from collections import Counter\n",
        "\n",
        "for i in preprocessed_documents:\n",
        "    frequency_list.append(Counter(i))\n",
        "    \n",
        "pprint.pprint(frequency_list)"
      ],
      "execution_count": 12,
      "outputs": [
        {
          "output_type": "stream",
          "text": [
            "[Counter({'the': 4,\n",
            "          'it': 3,\n",
            "          'department': 2,\n",
            "          'was': 2,\n",
            "          'in': 2,\n",
            "          'msc': 2,\n",
            "          'of': 1,\n",
            "          'information': 1,\n",
            "          'technology': 1,\n",
            "          'at': 1,\n",
            "          'ramniranjan': 1,\n",
            "          'jhunjhunwala': 1,\n",
            "          'college': 1,\n",
            "          'ghatkopar': 1,\n",
            "          'mumbai': 1,\n",
            "          'established': 1,\n",
            "          '2007': 1,\n",
            "          'offers': 1,\n",
            "          'both': 1,\n",
            "          'undergraduate': 1,\n",
            "          'bsc': 1,\n",
            "          'and': 1,\n",
            "          'postgraduate': 1,\n",
            "          'programmes': 1,\n",
            "          'programme': 1,\n",
            "          'introduced': 1,\n",
            "          'year': 1,\n",
            "          '2016': 1})]\n"
          ],
          "name": "stdout"
        }
      ]
    },
    {
      "cell_type": "code",
      "metadata": {
        "colab": {
          "base_uri": "https://localhost:8080/"
        },
        "id": "ECFUCxsvN8O9",
        "outputId": "2f523de6-5101-4eb2-855e-bdf07b645d20"
      },
      "source": [
        "import nltk\n",
        "from nltk.stem.porter import *\n",
        "\n",
        "porterStemmer = PorterStemmer()\n",
        "\n",
        "text = \"The Department of Information Technology at Ramniranjan Jhunjhunwala College, Ghatkopar, Mumbai was established in 2007. The Department offers both undergraduate (B.Sc. IT) and postgraduate (M.Sc. IT) programmes. The M.Sc IT programme was introduced in the year 2016.\"\n",
        "wordList = nltk.word_tokenize(text)\n",
        "\n",
        "stemWords = [porterStemmer.stem(word) for word in wordList]\n",
        "\n",
        "print(' '.join(stemWords))"
      ],
      "execution_count": 13,
      "outputs": [
        {
          "output_type": "stream",
          "text": [
            "the depart of inform technolog at ramniranjan jhunjhunwala colleg , ghatkopar , mumbai wa establish in 2007 . the depart offer both undergradu ( b.sc . IT ) and postgradu ( m.sc . IT ) programm . the m.sc IT programm wa introduc in the year 2016 .\n"
          ],
          "name": "stdout"
        }
      ]
    }
  ]
}